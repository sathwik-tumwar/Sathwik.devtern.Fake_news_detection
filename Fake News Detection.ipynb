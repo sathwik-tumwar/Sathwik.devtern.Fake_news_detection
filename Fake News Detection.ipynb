{
 "cells": [
  {
   "cell_type": "markdown",
   "id": "9b34d5f5",
   "metadata": {},
   "source": [
    "## Detecting Fake News"
   ]
  },
  {
   "cell_type": "markdown",
   "id": "5f4c400a",
   "metadata": {},
   "source": [
    "### Objective:\n",
    "#### Differentiate between real and fake news using a Python project applying a PassiveAggressiveClassifier."
   ]
  },
  {
   "cell_type": "markdown",
   "id": "adb56bcd",
   "metadata": {},
   "source": [
    "### Tasks:\n",
    "\n",
    "####  1) Read and explore the textual dataset.\n",
    "#### 2)  Build a machine learning model with TfidfVectorizer and PassiveAggressiveClassifier.\n",
    "####  3) Create a confusion matrix to evaluate the model's performance.\n",
    "####  4) Measure the model's accuracy."
   ]
  },
  {
   "cell_type": "markdown",
   "id": "a5d34148",
   "metadata": {},
   "source": [
    "### Deliverables:\n",
    "\n",
    "#### 1) Report on detecting fake news using Python, covering data exploration, model building, and evaluation.\n",
    "#### 2) Python code for data preprocessing, model construction, and confusion matrix generation."
   ]
  },
  {
   "cell_type": "markdown",
   "id": "cb98956e",
   "metadata": {},
   "source": [
    "### Task 1: Imports and data loading"
   ]
  },
  {
   "cell_type": "markdown",
   "id": "2892be6a",
   "metadata": {},
   "source": [
    "#### Import the data and packages that required for Model construction."
   ]
  },
  {
   "cell_type": "code",
   "execution_count": 1,
   "id": "a02b182f",
   "metadata": {},
   "outputs": [],
   "source": [
    "# Packages for data preprocessing and manipulation\n",
    "import pandas as pd\n",
    "import numpy as np\n",
    "\n",
    "# Packages for visualization\n",
    "import seaborn as sns\n",
    "import matplotlib.pyplot as plt\n",
    "\n",
    "# Packages for building Machine Learning Model\n",
    "from sklearn.feature_extraction.text import TfidfVectorizer\n",
    "from sklearn.model_selection import train_test_split\n",
    "from sklearn.linear_model import PassiveAggressiveClassifier\n",
    "from sklearn.metrics import classification_report,accuracy_score, precision_score,recall_score, f1_score, confusion_matrix, ConfusionMatrixDisplay\n",
    "import itertools\n"
   ]
  },
  {
   "cell_type": "code",
   "execution_count": 2,
   "id": "1c073e4d",
   "metadata": {},
   "outputs": [],
   "source": [
    "# Load the dataset by running this cell\n",
    "\n",
    "news_df = pd.read_csv('news.csv')"
   ]
  },
  {
   "cell_type": "markdown",
   "id": "a09ec82d",
   "metadata": {},
   "source": [
    "###  Task 2: Explore data with Exploratory Data Analysis\n",
    "#### Analyze and discover data, looking for correlations, missing data, potential outliers, and/or duplicates."
   ]
  },
  {
   "cell_type": "code",
   "execution_count": 3,
   "id": "a5aa98f6",
   "metadata": {},
   "outputs": [
    {
     "data": {
      "text/html": [
       "<div>\n",
       "<style scoped>\n",
       "    .dataframe tbody tr th:only-of-type {\n",
       "        vertical-align: middle;\n",
       "    }\n",
       "\n",
       "    .dataframe tbody tr th {\n",
       "        vertical-align: top;\n",
       "    }\n",
       "\n",
       "    .dataframe thead th {\n",
       "        text-align: right;\n",
       "    }\n",
       "</style>\n",
       "<table border=\"1\" class=\"dataframe\">\n",
       "  <thead>\n",
       "    <tr style=\"text-align: right;\">\n",
       "      <th></th>\n",
       "      <th>Unnamed: 0</th>\n",
       "      <th>title</th>\n",
       "      <th>text</th>\n",
       "      <th>label</th>\n",
       "    </tr>\n",
       "  </thead>\n",
       "  <tbody>\n",
       "    <tr>\n",
       "      <th>0</th>\n",
       "      <td>8476</td>\n",
       "      <td>You Can Smell Hillary’s Fear</td>\n",
       "      <td>Daniel Greenfield, a Shillman Journalism Fello...</td>\n",
       "      <td>FAKE</td>\n",
       "    </tr>\n",
       "    <tr>\n",
       "      <th>1</th>\n",
       "      <td>10294</td>\n",
       "      <td>Watch The Exact Moment Paul Ryan Committed Pol...</td>\n",
       "      <td>Google Pinterest Digg Linkedin Reddit Stumbleu...</td>\n",
       "      <td>FAKE</td>\n",
       "    </tr>\n",
       "    <tr>\n",
       "      <th>2</th>\n",
       "      <td>3608</td>\n",
       "      <td>Kerry to go to Paris in gesture of sympathy</td>\n",
       "      <td>U.S. Secretary of State John F. Kerry said Mon...</td>\n",
       "      <td>REAL</td>\n",
       "    </tr>\n",
       "    <tr>\n",
       "      <th>3</th>\n",
       "      <td>10142</td>\n",
       "      <td>Bernie supporters on Twitter erupt in anger ag...</td>\n",
       "      <td>— Kaydee King (@KaydeeKing) November 9, 2016 T...</td>\n",
       "      <td>FAKE</td>\n",
       "    </tr>\n",
       "    <tr>\n",
       "      <th>4</th>\n",
       "      <td>875</td>\n",
       "      <td>The Battle of New York: Why This Primary Matters</td>\n",
       "      <td>It's primary day in New York and front-runners...</td>\n",
       "      <td>REAL</td>\n",
       "    </tr>\n",
       "  </tbody>\n",
       "</table>\n",
       "</div>"
      ],
      "text/plain": [
       "   Unnamed: 0                                              title  \\\n",
       "0        8476                       You Can Smell Hillary’s Fear   \n",
       "1       10294  Watch The Exact Moment Paul Ryan Committed Pol...   \n",
       "2        3608        Kerry to go to Paris in gesture of sympathy   \n",
       "3       10142  Bernie supporters on Twitter erupt in anger ag...   \n",
       "4         875   The Battle of New York: Why This Primary Matters   \n",
       "\n",
       "                                                text label  \n",
       "0  Daniel Greenfield, a Shillman Journalism Fello...  FAKE  \n",
       "1  Google Pinterest Digg Linkedin Reddit Stumbleu...  FAKE  \n",
       "2  U.S. Secretary of State John F. Kerry said Mon...  REAL  \n",
       "3  — Kaydee King (@KaydeeKing) November 9, 2016 T...  FAKE  \n",
       "4  It's primary day in New York and front-runners...  REAL  "
      ]
     },
     "execution_count": 3,
     "metadata": {},
     "output_type": "execute_result"
    }
   ],
   "source": [
    "news_df.head()"
   ]
  },
  {
   "cell_type": "code",
   "execution_count": 4,
   "id": "f0829c0e",
   "metadata": {},
   "outputs": [
    {
     "data": {
      "text/plain": [
       "(6335, 4)"
      ]
     },
     "execution_count": 4,
     "metadata": {},
     "output_type": "execute_result"
    }
   ],
   "source": [
    "news_df.shape"
   ]
  },
  {
   "cell_type": "markdown",
   "id": "7b86305d",
   "metadata": {},
   "source": [
    " #### news_df dataframe consist of 6335 rows and 4 columns"
   ]
  },
  {
   "cell_type": "markdown",
   "id": "e3a36a00",
   "metadata": {},
   "source": [
    "#### Generate summary statistics using the describe() method"
   ]
  },
  {
   "cell_type": "code",
   "execution_count": 5,
   "id": "89c6aa7d",
   "metadata": {},
   "outputs": [
    {
     "data": {
      "text/html": [
       "<div>\n",
       "<style scoped>\n",
       "    .dataframe tbody tr th:only-of-type {\n",
       "        vertical-align: middle;\n",
       "    }\n",
       "\n",
       "    .dataframe tbody tr th {\n",
       "        vertical-align: top;\n",
       "    }\n",
       "\n",
       "    .dataframe thead th {\n",
       "        text-align: right;\n",
       "    }\n",
       "</style>\n",
       "<table border=\"1\" class=\"dataframe\">\n",
       "  <thead>\n",
       "    <tr style=\"text-align: right;\">\n",
       "      <th></th>\n",
       "      <th>Unnamed: 0</th>\n",
       "    </tr>\n",
       "  </thead>\n",
       "  <tbody>\n",
       "    <tr>\n",
       "      <th>count</th>\n",
       "      <td>6335.000000</td>\n",
       "    </tr>\n",
       "    <tr>\n",
       "      <th>mean</th>\n",
       "      <td>5280.415627</td>\n",
       "    </tr>\n",
       "    <tr>\n",
       "      <th>std</th>\n",
       "      <td>3038.503953</td>\n",
       "    </tr>\n",
       "    <tr>\n",
       "      <th>min</th>\n",
       "      <td>2.000000</td>\n",
       "    </tr>\n",
       "    <tr>\n",
       "      <th>25%</th>\n",
       "      <td>2674.500000</td>\n",
       "    </tr>\n",
       "    <tr>\n",
       "      <th>50%</th>\n",
       "      <td>5271.000000</td>\n",
       "    </tr>\n",
       "    <tr>\n",
       "      <th>75%</th>\n",
       "      <td>7901.000000</td>\n",
       "    </tr>\n",
       "    <tr>\n",
       "      <th>max</th>\n",
       "      <td>10557.000000</td>\n",
       "    </tr>\n",
       "  </tbody>\n",
       "</table>\n",
       "</div>"
      ],
      "text/plain": [
       "         Unnamed: 0\n",
       "count   6335.000000\n",
       "mean    5280.415627\n",
       "std     3038.503953\n",
       "min        2.000000\n",
       "25%     2674.500000\n",
       "50%     5271.000000\n",
       "75%     7901.000000\n",
       "max    10557.000000"
      ]
     },
     "execution_count": 5,
     "metadata": {},
     "output_type": "execute_result"
    }
   ],
   "source": [
    "news_df.describe()"
   ]
  },
  {
   "cell_type": "markdown",
   "id": "e78e7417",
   "metadata": {},
   "source": [
    "#### And summary information using the info() method."
   ]
  },
  {
   "cell_type": "code",
   "execution_count": 6,
   "id": "03e8c61d",
   "metadata": {},
   "outputs": [
    {
     "name": "stdout",
     "output_type": "stream",
     "text": [
      "<class 'pandas.core.frame.DataFrame'>\n",
      "RangeIndex: 6335 entries, 0 to 6334\n",
      "Data columns (total 4 columns):\n",
      " #   Column      Non-Null Count  Dtype \n",
      "---  ------      --------------  ----- \n",
      " 0   Unnamed: 0  6335 non-null   int64 \n",
      " 1   title       6335 non-null   object\n",
      " 2   text        6335 non-null   object\n",
      " 3   label       6335 non-null   object\n",
      "dtypes: int64(1), object(3)\n",
      "memory usage: 198.1+ KB\n"
     ]
    }
   ],
   "source": [
    "news_df.info()"
   ]
  },
  {
   "cell_type": "markdown",
   "id": "125a98fd",
   "metadata": {},
   "source": [
    "#### There are no missing values in data"
   ]
  },
  {
   "cell_type": "markdown",
   "id": "1b7aaedf",
   "metadata": {},
   "source": [
    "#### Now, check the class balance of the dependent (target) variable, label"
   ]
  },
  {
   "cell_type": "code",
   "execution_count": 7,
   "id": "0f0885a0",
   "metadata": {},
   "outputs": [
    {
     "data": {
      "text/plain": [
       "REAL    3171\n",
       "FAKE    3164\n",
       "Name: label, dtype: int64"
      ]
     },
     "execution_count": 7,
     "metadata": {},
     "output_type": "execute_result"
    }
   ],
   "source": [
    "news_df['label'].value_counts()"
   ]
  },
  {
   "cell_type": "markdown",
   "id": "61f6befc",
   "metadata": {},
   "source": [
    "#### What percent of labels we have"
   ]
  },
  {
   "cell_type": "code",
   "execution_count": 8,
   "id": "ee97bc27",
   "metadata": {},
   "outputs": [
    {
     "data": {
      "text/plain": [
       "REAL    50.06\n",
       "FAKE    49.94\n",
       "Name: label, dtype: float64"
      ]
     },
     "execution_count": 8,
     "metadata": {},
     "output_type": "execute_result"
    }
   ],
   "source": [
    "round(news_df['label'].value_counts(normalize=True)*100,2)"
   ]
  },
  {
   "cell_type": "code",
   "execution_count": 9,
   "id": "e30af2bf",
   "metadata": {},
   "outputs": [
    {
     "data": {
      "text/plain": [
       "Index(['Unnamed: 0', 'title', 'text', 'label'], dtype='object')"
      ]
     },
     "execution_count": 9,
     "metadata": {},
     "output_type": "execute_result"
    }
   ],
   "source": [
    "news_df.columns"
   ]
  },
  {
   "cell_type": "markdown",
   "id": "4eb0531b",
   "metadata": {},
   "source": [
    "#### We have to replace column 'Unnamed: 0' with some valid name as 'Id'"
   ]
  },
  {
   "cell_type": "code",
   "execution_count": 10,
   "id": "f8855b31",
   "metadata": {},
   "outputs": [],
   "source": [
    "news_df.rename(columns={'Unnamed: 0': 'Id'}, inplace=True)"
   ]
  },
  {
   "cell_type": "code",
   "execution_count": 11,
   "id": "f5922b9f",
   "metadata": {},
   "outputs": [
    {
     "data": {
      "text/html": [
       "<div>\n",
       "<style scoped>\n",
       "    .dataframe tbody tr th:only-of-type {\n",
       "        vertical-align: middle;\n",
       "    }\n",
       "\n",
       "    .dataframe tbody tr th {\n",
       "        vertical-align: top;\n",
       "    }\n",
       "\n",
       "    .dataframe thead th {\n",
       "        text-align: right;\n",
       "    }\n",
       "</style>\n",
       "<table border=\"1\" class=\"dataframe\">\n",
       "  <thead>\n",
       "    <tr style=\"text-align: right;\">\n",
       "      <th></th>\n",
       "      <th>Id</th>\n",
       "      <th>title</th>\n",
       "      <th>text</th>\n",
       "      <th>label</th>\n",
       "    </tr>\n",
       "  </thead>\n",
       "  <tbody>\n",
       "    <tr>\n",
       "      <th>0</th>\n",
       "      <td>8476</td>\n",
       "      <td>You Can Smell Hillary’s Fear</td>\n",
       "      <td>Daniel Greenfield, a Shillman Journalism Fello...</td>\n",
       "      <td>FAKE</td>\n",
       "    </tr>\n",
       "    <tr>\n",
       "      <th>1</th>\n",
       "      <td>10294</td>\n",
       "      <td>Watch The Exact Moment Paul Ryan Committed Pol...</td>\n",
       "      <td>Google Pinterest Digg Linkedin Reddit Stumbleu...</td>\n",
       "      <td>FAKE</td>\n",
       "    </tr>\n",
       "    <tr>\n",
       "      <th>2</th>\n",
       "      <td>3608</td>\n",
       "      <td>Kerry to go to Paris in gesture of sympathy</td>\n",
       "      <td>U.S. Secretary of State John F. Kerry said Mon...</td>\n",
       "      <td>REAL</td>\n",
       "    </tr>\n",
       "    <tr>\n",
       "      <th>3</th>\n",
       "      <td>10142</td>\n",
       "      <td>Bernie supporters on Twitter erupt in anger ag...</td>\n",
       "      <td>— Kaydee King (@KaydeeKing) November 9, 2016 T...</td>\n",
       "      <td>FAKE</td>\n",
       "    </tr>\n",
       "    <tr>\n",
       "      <th>4</th>\n",
       "      <td>875</td>\n",
       "      <td>The Battle of New York: Why This Primary Matters</td>\n",
       "      <td>It's primary day in New York and front-runners...</td>\n",
       "      <td>REAL</td>\n",
       "    </tr>\n",
       "  </tbody>\n",
       "</table>\n",
       "</div>"
      ],
      "text/plain": [
       "      Id                                              title  \\\n",
       "0   8476                       You Can Smell Hillary’s Fear   \n",
       "1  10294  Watch The Exact Moment Paul Ryan Committed Pol...   \n",
       "2   3608        Kerry to go to Paris in gesture of sympathy   \n",
       "3  10142  Bernie supporters on Twitter erupt in anger ag...   \n",
       "4    875   The Battle of New York: Why This Primary Matters   \n",
       "\n",
       "                                                text label  \n",
       "0  Daniel Greenfield, a Shillman Journalism Fello...  FAKE  \n",
       "1  Google Pinterest Digg Linkedin Reddit Stumbleu...  FAKE  \n",
       "2  U.S. Secretary of State John F. Kerry said Mon...  REAL  \n",
       "3  — Kaydee King (@KaydeeKing) November 9, 2016 T...  FAKE  \n",
       "4  It's primary day in New York and front-runners...  REAL  "
      ]
     },
     "execution_count": 11,
     "metadata": {},
     "output_type": "execute_result"
    }
   ],
   "source": [
    "news_df.head()"
   ]
  },
  {
   "cell_type": "markdown",
   "id": "e8e9a84d",
   "metadata": {},
   "source": [
    "#### Now it seems good by giving column name 'Id'"
   ]
  },
  {
   "cell_type": "markdown",
   "id": "88c40ab7",
   "metadata": {},
   "source": [
    "### Task 3: Model building"
   ]
  },
  {
   "cell_type": "markdown",
   "id": "c8c83bdb",
   "metadata": {},
   "source": [
    "### Assign predictor variables and target"
   ]
  },
  {
   "cell_type": "code",
   "execution_count": 12,
   "id": "63216dae",
   "metadata": {},
   "outputs": [],
   "source": [
    "# Isolate predictor variables\n",
    "X = news_df['text']"
   ]
  },
  {
   "cell_type": "code",
   "execution_count": 13,
   "id": "36799025",
   "metadata": {},
   "outputs": [],
   "source": [
    "# Isolate target variable\n",
    "Y = news_df['label']"
   ]
  },
  {
   "cell_type": "markdown",
   "id": "339a56a0",
   "metadata": {},
   "source": [
    "### Split the data\n",
    "#### Use scikit-learn's train_test_split() function to perform a train/test split on your data using the X and y variables you assigned above."
   ]
  },
  {
   "cell_type": "code",
   "execution_count": 14,
   "id": "ae3dfda8",
   "metadata": {},
   "outputs": [],
   "source": [
    "#First, we split the dataset into train & test samples:\n",
    "x_train, x_test, y_train, y_test= train_test_split(X,Y, test_size= 0.4, random_state= 7)"
   ]
  },
  {
   "cell_type": "code",
   "execution_count": 15,
   "id": "1a520be8",
   "metadata": {},
   "outputs": [],
   "source": [
    "#Then we’ll initialize TfidfVectorizer with English stop words\n",
    "vectorizer=TfidfVectorizer(stop_words='english', max_df=0.7)\n",
    "tfidf_train=vectorizer.fit_transform(x_train) \n",
    "tfidf_test=vectorizer.transform(x_test)"
   ]
  },
  {
   "cell_type": "markdown",
   "id": "c3d2637b",
   "metadata": {},
   "source": [
    "#### 1. `TfidfVectorizer` is initialized with English stop words and a maximum document frequency threshold of 0.7. This vectorizer is then used to transform the training set (`x_train`) into TF-IDF features (`tfidf_train`).\n",
    "\n",
    "#### 2. Similarly, the same vectorizer is applied to transform the test set (`x_test`) into TF-IDF features (`tfidf_test`). The `max_df` parameter is set to 0.7, indicating that words occurring in more than 70% of the documents will be ignored in the TF-IDF calculation."
   ]
  },
  {
   "cell_type": "code",
   "execution_count": 16,
   "id": "d281cf63",
   "metadata": {},
   "outputs": [],
   "source": [
    "#Create a PassiveAggressiveClassifier\n",
    "passive=PassiveAggressiveClassifier(max_iter=50)\n",
    "passive.fit(tfidf_train,y_train)\n",
    "\n",
    "y_pred=passive.predict(tfidf_test)"
   ]
  },
  {
   "cell_type": "markdown",
   "id": "1d4b6c4d",
   "metadata": {},
   "source": [
    "#### 1. A `PassiveAggressiveClassifier` is created with a maximum of 50 iterations (`max_iter` set to 50).\n",
    "#### 2. The classifier is trained using the TF-IDF-transformed training data (`tfidf_train`) and corresponding labels (`y_train`).\n",
    "#### 3. The trained classifier is then used to predict labels for the TF-IDF-transformed test data (`tfidf_test`), and the predictions are stored in the variable `y_pred`."
   ]
  },
  {
   "cell_type": "markdown",
   "id": "0e0149f3",
   "metadata": {},
   "source": [
    "### Task 4: Show results with a confusion matrix\n",
    "#### Use the confusion_matrix function to obtain a confusion matrix. Use y_test and y_preds as arguments"
   ]
  },
  {
   "cell_type": "code",
   "execution_count": 17,
   "id": "d875442f",
   "metadata": {},
   "outputs": [
    {
     "data": {
      "text/plain": [
       "array([[1186,   84],\n",
       "       [  91, 1173]], dtype=int64)"
      ]
     },
     "execution_count": 17,
     "metadata": {},
     "output_type": "execute_result"
    }
   ],
   "source": [
    "#Create a confusion matrix\n",
    "cm= confusion_matrix(y_test,y_pred, labels=['FAKE','REAL'])\n",
    "cm"
   ]
  },
  {
   "cell_type": "markdown",
   "id": "1ffa3c75",
   "metadata": {},
   "source": [
    "#### Next, use the ConfusionMatrixDisplay() function to display the confusion matrix from the above cell, passing the confusion matrix you just created as its argument."
   ]
  },
  {
   "cell_type": "code",
   "execution_count": 18,
   "id": "61a4dcf9",
   "metadata": {},
   "outputs": [
    {
     "data": {
      "image/png": "[encoded data removed]",
      "text/plain": [
       "<Figure size 640x480 with 2 Axes>"
      ]
     },
     "metadata": {},
     "output_type": "display_data"
    }
   ],
   "source": [
    "disp = ConfusionMatrixDisplay(confusion_matrix=cm, \n",
    "                              display_labels=['FAKE', 'REAL'],\n",
    "                              )\n",
    "disp.plot();"
   ]
  },
  {
   "cell_type": "code",
   "execution_count": 19,
   "id": "8157d41e",
   "metadata": {},
   "outputs": [
    {
     "data": {
      "text/plain": [
       "93.0939226519337"
      ]
     },
     "execution_count": 19,
     "metadata": {},
     "output_type": "execute_result"
    }
   ],
   "source": [
    "#Calculate the model's accuracy\n",
    "Accuracy=accuracy_score(y_test,y_pred)\n",
    "Accuracy*100"
   ]
  },
  {
   "cell_type": "markdown",
   "id": "921dd51e",
   "metadata": {},
   "source": [
    "#### The model's accuracy is 93%"
   ]
  },
  {
   "cell_type": "markdown",
   "id": "7860e261",
   "metadata": {},
   "source": [
    "#### You can use the confusion matrix to compute precision and recall manually. You can also use scikit-learn's classification_report() function to generate a table from y_test and y_preds."
   ]
  },
  {
   "cell_type": "code",
   "execution_count": 20,
   "id": "c22964bb",
   "metadata": {},
   "outputs": [
    {
     "name": "stdout",
     "output_type": "stream",
     "text": [
      "              precision    recall  f1-score   support\n",
      "\n",
      "        FAKE       0.93      0.93      0.93      1270\n",
      "        REAL       0.93      0.93      0.93      1264\n",
      "\n",
      "    accuracy                           0.93      2534\n",
      "   macro avg       0.93      0.93      0.93      2534\n",
      "weighted avg       0.93      0.93      0.93      2534\n",
      "\n"
     ]
    }
   ],
   "source": [
    "Report= classification_report(y_test, y_pred)\n",
    "print(Report)"
   ]
  },
  {
   "cell_type": "code",
   "execution_count": null,
   "id": "0e2bc2ed",
   "metadata": {},
   "outputs": [],
   "source": []
  }
 ],
 "metadata": {
  "kernelspec": {
   "display_name": "Python 3 (ipykernel)",
   "language": "python",
   "name": "python3"
  },
  "language_info": {
   "codemirror_mode": {
    "name": "ipython",
    "version": 3
   },
   "file_extension": ".py",
   "mimetype": "text/x-python",
   "name": "python",
   "nbconvert_exporter": "python",
   "pygments_lexer": "ipython3",
   "version": "3.10.9"
  }
 },
 "nbformat": 4,
 "nbformat_minor": 5
}
